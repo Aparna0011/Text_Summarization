{
 "cells": [
  {
   "cell_type": "code",
   "execution_count": null,
   "id": "7f0a52d2",
   "metadata": {},
   "outputs": [],
   "source": [
    "!pip install transformers"
   ]
  },
  {
   "cell_type": "code",
   "execution_count": 2,
   "id": "50c4798b",
   "metadata": {},
   "outputs": [],
   "source": [
    "from transformers import pipeline"
   ]
  },
  {
   "cell_type": "code",
   "execution_count": null,
   "id": "2f1b65c7",
   "metadata": {},
   "outputs": [],
   "source": [
    "# load summarization pipeline\n",
    "\n",
    "summarizer = pipeline('summarization')"
   ]
  },
  {
   "cell_type": "code",
   "execution_count": 7,
   "id": "c7673e52",
   "metadata": {},
   "outputs": [],
   "source": [
    "article = \"\"\"\n",
    "Prior to Silicon Valley Bank’s March 10, 2023, collapse, conversations on Twitter among investors about the bank spiked – helping fuel the SVB bank run. As we explain in our new working paper, “Social media as a bank run catalyst,” those tweets also destabilized other financial institutions with weak balance sheets.\n",
    "\n",
    "The number of tweets mentioning “SIVB,” the bank’s stock ticker, increased sharply on March 9 around 9 a.m EST. That was roughly two and a half hours before tweets mentioning “SVB” or “Silicon Valley Bank,” which were part of a more general-interest discussion, began.\n",
    "\n",
    "That spike in investor tweets coincided with the rapid drop in the bank’s stock price on March 9, which continued in after-hours trading and before the market opened the next morning. Trades in SVB’s stock were halted on March 10, the day the bank collapsed.\n",
    "\n",
    "Together with several other colleagues, we grouped U.S. banks by the number of tweets posted about them and by their vulnerability to a potential bank run. To measure vulnerability, we multiplied losses the banks incurred due to the string of interest rate increases that began in March 2022 by the proportion of their deposits that were below the Federal Deposit Insurance Corp.‘s insurance limit of $250,000 per account.\n",
    "\n",
    "We found that shares of banks with a lot of Twitter activity in January and February incurred much larger declines in March. This effect was stronger for the group of banks with the most vulnerability. One of them was First Republic Bank, which subsequently failed on May 1.\n",
    "\n",
    "When we looked at what happened to the stocks of all the banks with vulnerable balance sheets from March 6 to March 13, the one-third of banks with the most tweets experienced declines in their share prices on average about twice as large as the others.\n",
    "\n",
    "\"\"\""
   ]
  },
  {
   "cell_type": "code",
   "execution_count": 9,
   "id": "692664e3",
   "metadata": {},
   "outputs": [
    {
     "data": {
      "text/plain": [
       "[{'summary_text': 'the number of tweets mentioning “SIVB” or “Silicon Valley Bank” increased sharply on March 9 around 9 a.m. EST . that spike in investor tweets coincided with the rapid drop in the bank’s stock price on March 9, which continued in after-hours trading .'}]"
      ]
     },
     "execution_count": 9,
     "metadata": {},
     "output_type": "execute_result"
    }
   ],
   "source": [
    "summarizer(article, max_length = 200, min_length = 30, do_sample = False)"
   ]
  },
  {
   "cell_type": "code",
   "execution_count": null,
   "id": "316d3e99",
   "metadata": {},
   "outputs": [],
   "source": []
  }
 ],
 "metadata": {
  "kernelspec": {
   "display_name": "Python 3 (ipykernel)",
   "language": "python",
   "name": "python3"
  },
  "language_info": {
   "codemirror_mode": {
    "name": "ipython",
    "version": 3
   },
   "file_extension": ".py",
   "mimetype": "text/x-python",
   "name": "python",
   "nbconvert_exporter": "python",
   "pygments_lexer": "ipython3",
   "version": "3.9.12"
  }
 },
 "nbformat": 4,
 "nbformat_minor": 5
}
